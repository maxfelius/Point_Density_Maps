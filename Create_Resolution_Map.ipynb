{
 "cells": [
  {
   "source": [
    "# Example on how to create resolution maps\n",
    "\n",
    "@author: Max Felius\n",
    "\n",
    "This Notebook will show how to combine the different MRSS datasets in order to create a complete point density map."
   ],
   "cell_type": "markdown",
   "metadata": {}
  },
  {
   "source": [
    "#imports\n",
    "from decouple import config\n",
    "import CreateResolutionMap"
   ],
   "cell_type": "code",
   "metadata": {},
   "execution_count": 1,
   "outputs": []
  },
  {
   "source": [
    "## Select the datasets to be combined\n",
    "\n",
    "Make sure to configure the .env file with the correct path."
   ],
   "cell_type": "markdown",
   "metadata": {}
  },
  {
   "cell_type": "code",
   "execution_count": 2,
   "metadata": {},
   "outputs": [],
   "source": [
    "absolute_path = config('abs_path_downloads')\n",
    "\n",
    "#datasets used to combine\n",
    "datasets = [\n",
    "    'full-pixel_mrss_rsat2_asc_t109_v3_b728bb51760435c769a9d45b3e8e74d6325b90fa.csv',\n",
    "    'full-pixel_mrss_rsat2_dsc_t302_v3_6cb798ad333fdf7ad686b31443834e676ea5a0bc.csv'#,\n",
    "    # 'full-pixel_mrss_s1_asc_t88_v4_080a1cbf7de1b6d42b3465772d9065fe7115d4bf.csv',\n",
    "    # 'full-pixel_mrss_s1_dsc_t37_v5_6b2ebff998208d769573c02548be69075447f465.csv',\n",
    "    # 'full-pixel_mrss_s1_dsc_t139_v5_47cf4b28795f4dcd36525ceb1e4741a4e9809ac0.csv',\n",
    "    # 'limburg_xf_asc_v8_noqc_psds_hl.csv',\n",
    "    # 'limburg_xf_dsc_v6_psds_hl.csv'\n",
    "]\n",
    "\n",
    "# datasets = ['test.csv']\n",
    "\n",
    "#add the absolute path to the datasets\n",
    "for idx,data in enumerate(datasets):\n",
    "    datasets[idx] = os.path.join(absolute_path,data)"
   ]
  },
  {
   "cell_type": "code",
   "execution_count": 3,
   "metadata": {
    "tags": []
   },
   "outputs": [
    {
     "output_type": "stream",
     "name": "stderr",
     "text": "N/A% (0 of 2) |                          | Elapsed Time: 0:00:00 ETA:  --:--:--\nStarted reading the data...\n 50% (1 of 2) |#############             | Elapsed Time: 0:03:21 ETA:   0:03:21Appended /Users/maxfelius/Downloads/MRSS_limburg/full-pixel_mrss_rsat2_asc_t109_v3_b728bb51760435c769a9d45b3e8e74d6325b90fa.csv to the dataset\n100% (2 of 2) |##########################| Elapsed Time: 0:06:43 Time:  0:06:43\nAppended /Users/maxfelius/Downloads/MRSS_limburg/full-pixel_mrss_rsat2_dsc_t302_v3_6cb798ad333fdf7ad686b31443834e676ea5a0bc.csv to the dataset\n"
    }
   ],
   "source": [
    "import pandas as pd\n",
    "import progressbar\n",
    "import rijksdriehoek\n",
    "import numpy as np\n",
    "\n",
    "def Load_Data(header,datasets):\n",
    "    '''\n",
    "    Method for loading the data\n",
    "\n",
    "    roughly 15 minutes to load the data\n",
    "    '''\n",
    "    if isinstance(datasets,list):\n",
    "        data = pd.DataFrame(columns=header)\n",
    "\n",
    "        #for file_in in self.filename:\n",
    "        #TEST: progressbar\n",
    "        print('\\nStarted reading the data...')\n",
    "        for i in progressbar.progressbar(range(len(datasets))):\n",
    "            file_in = datasets[i]\n",
    "            temp = pd.read_csv(file_in)\n",
    "\n",
    "            if 'pnt_rdx' not in list(temp) or 'pnt_rdy' not in list(temp):\n",
    "                #creating the rd coordinates using lat/lon as input\n",
    "                rd = rijksdriehoek.Rijksdriehoek()\n",
    "                rd.from_wgs(temp['pnt_lat'],temp['pnt_lon'])\n",
    "\n",
    "                #create new dataframe with rd coordinates\n",
    "\n",
    "                df = pd.DataFrame(np.array([rd.rd_x,rd.rd_y]).T,columns=['pnt_rdx','pnt_rdy'])\n",
    "                temp = temp.join(df)\n",
    "                \n",
    "                with open('header_list.txt','a') as f:\n",
    "                    f.write(f'{file_in}: {list(temp)}\\n')\n",
    "\n",
    "                data = data.append(temp[header], ignore_index=True)                \n",
    "            else:\n",
    "                data = data.append(temp[header], ignore_index=True)\n",
    "            print(f'Appended {file_in} to the dataset')\n",
    "    else:\n",
    "        data = pd.read_csv(datasets)\n",
    "\n",
    "    return data\n",
    "\n",
    "header = ['pnt_lon','pnt_lat','pnt_rdx','pnt_rdy']\n",
    "df = Load_Data(header,datasets)"
   ]
  },
  {
   "source": [
    "## Create the resolution map for looking at the point density\n",
    "\n",
    "Map is made using the following procedure.\n",
    "- First the data is read with the use of pandas and appended to eachother in order to make one big data file\n",
    "- The maximum and minimum values of the rijksdriehoek columns (pnt_rdx, pnt_rdy) are taken from the data file\n",
    "- A grid is created using the spacing of 2 times the 'cell_radius' in the x and y direction\n",
    "- Using the rijksdriehoek coordinates (pnt_rdx, pnt_rdy), the KD-Tree is initialized\n",
    "- Per each grid point a subset is created using the KD-Tree. The KD-Tree can only work with search <b>radius</b>, thus here the search radius is defined as $\\sqrt{2} \\cdot cell\\_radius \\cdot 1.01$. This way all points that fall within the search square will be used.\n",
    "- A simple if-statement defines a cell and all the points that fall within this cell are counted.\n",
    "\n"
   ],
   "cell_type": "markdown",
   "metadata": {}
  },
  {
   "cell_type": "code",
   "execution_count": null,
   "metadata": {
    "tags": []
   },
   "outputs": [],
   "source": [
    "#cell radius is the distance between the center of the square to the edge. Resolution is 2*cell_radius\n",
    "cell_radius = 100\n",
    "\n",
    "#creating the data object\n",
    "dataset_obj = CreateResolutionMap.create_resolution_map(datasets,cell_radius)\n",
    "\n",
    "#start creating the map\n",
    "data = dataset_obj.start()\n",
    "\n",
    "#save the dataset\n",
    "data.to_csv('Resolution_Map_Combined_Dataset_200x200.csv')"
   ]
  },
  {
   "cell_type": "code",
   "execution_count": null,
   "metadata": {},
   "outputs": [],
   "source": []
  }
 ],
 "metadata": {
  "kernelspec": {
   "display_name": "Python 3.8.5 64-bit",
   "language": "python",
   "name": "python_defaultSpec_1601479908732"
  },
  "language_info": {
   "codemirror_mode": {
    "name": "ipython",
    "version": 3
   },
   "file_extension": ".py",
   "mimetype": "text/x-python",
   "name": "python",
   "nbconvert_exporter": "python",
   "pygments_lexer": "ipython3",
   "version": "3.8.5-final"
  }
 },
 "nbformat": 4,
 "nbformat_minor": 4
}